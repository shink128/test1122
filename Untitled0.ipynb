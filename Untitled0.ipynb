{
  "nbformat": 4,
  "nbformat_minor": 0,
  "metadata": {
    "colab": {
      "provenance": [],
      "authorship_tag": "ABX9TyNnqdYqSx+FIvVPVAeoE8n3",
      "include_colab_link": true
    },
    "kernelspec": {
      "name": "python3",
      "display_name": "Python 3"
    },
    "language_info": {
      "name": "python"
    }
  },
  "cells": [
    {
      "cell_type": "markdown",
      "metadata": {
        "id": "view-in-github",
        "colab_type": "text"
      },
      "source": [
        "<a href=\"https://colab.research.google.com/github/shink128/test1122/blob/main/Untitled0.ipynb\" target=\"_parent\"><img src=\"https://colab.research.google.com/assets/colab-badge.svg\" alt=\"Open In Colab\"/></a>"
      ]
    },
    {
      "cell_type": "code",
      "execution_count": null,
      "metadata": {
        "id": "8DRn9epZN4SF"
      },
      "outputs": [],
      "source": [
        "print('hello world')"
      ]
    },
    {
      "cell_type": "code",
      "source": [
        "!pip install selenium\n",
        "!apt-get update\n",
        "!apt install chromium-chromedriver\n",
        "!cp /usr/lib/chromium-browser/chromedriver/usr/bin"
      ],
      "metadata": {
        "id": "mWd3e_b3OZPr"
      },
      "execution_count": null,
      "outputs": []
    },
    {
      "cell_type": "code",
      "source": [
        "from selenium import webdriver\n",
        "from selenium.webdriver.common.by import By\n",
        "# pythonによる情報取得でよく使われる　ライブラリ　\n",
        "from bs4 import BeautifulSoup\n",
        "import time"
      ],
      "metadata": {
        "id": "p1oMyjLDS2vT"
      },
      "execution_count": null,
      "outputs": []
    },
    {
      "cell_type": "code",
      "source": [
        "html = \"<body><h1>スクレイピング！</h1></body>\"\n",
        "soup = BeautifulSoup(html,\"html.parser\")\n",
        "print(soup.h1.text)"
      ],
      "metadata": {
        "id": "h73lCV0yUfYk"
      },
      "execution_count": null,
      "outputs": []
    },
    {
      "cell_type": "code",
      "source": [
        "# グーグルコラボ特有の設定\n",
        "options = webdriver.ChromeOptions()\n",
        "# バックグラウンドで動かす指示(ローカルの場合はなくてもよい)\n",
        "options.add_argument('--headless')\n",
        "# サンドボックスモードの解除\n",
        "options.add_argument('--no-sandbox')\n",
        "# メモリの使用の場所を変えて安定してとってくるようにする\n",
        "options.add_argument('--disable-dev-shm-usage')"
      ],
      "metadata": {
        "id": "Bha7or6NZ9mX"
      },
      "execution_count": null,
      "outputs": []
    },
    {
      "cell_type": "code",
      "source": [
        "# サイトから情報を取得\n",
        "\n",
        "# インスタンス化 クラス（設計図）からインスタンス（実態）をつくる\n",
        "driver = webdriver.Chrome('chromedriver',options=options)\n",
        "\n",
        "# ドライバーを探す時間（ローカルの場合はなくてよい）\n",
        "driver.implicitly_wait(10)\n",
        "\n",
        "# 取得ページの指定\n",
        "url=\"https://club-tullys.jp/login\"\n",
        "\n",
        "driver.get(url)\n",
        "time.sleep(1)\n",
        "# 表示\n",
        "print(driver.title)"
      ],
      "metadata": {
        "colab": {
          "base_uri": "https://localhost:8080/"
        },
        "id": "HKiU3srkb95z",
        "outputId": "696d3a0e-9155-4e6e-a89b-e1db13e23a9a"
      },
      "execution_count": null,
      "outputs": [
        {
          "output_type": "stream",
          "name": "stdout",
          "text": [
            "CLUB TULLY'S | TULLY'S COFFEE\n"
          ]
        }
      ]
    },
    {
      "cell_type": "code",
      "source": [
        "login = \"shin.k.128@gmail.com\"\n",
        "password = \"shink128\"\n",
        "# ユーザー名を自動入力\n",
        "driver.find_element(By.XPATH,\"//*[@id='contentForm']/form/table/tbody/tr[1]/td/input\").send_keys(login)\n",
        "driver.find_element(By.XPATH,\"//*[@id='contentForm']/form/table/tbody/tr[2]/td/input\").send_keys(password)\n",
        "# ボタンをクリック\n",
        "driver.find_element(By.XPATH,\"//*[@id='contentFormBtn']\").click()\n",
        "time.sleep(3)"
      ],
      "metadata": {
        "id": "0nasRFpasiBX"
      },
      "execution_count": null,
      "outputs": []
    },
    {
      "cell_type": "code",
      "source": [
        "html = driver.page_source\n",
        "BeautifulSoup(html,\"lxml\")"
      ],
      "metadata": {
        "colab": {
          "base_uri": "https://localhost:8080/"
        },
        "id": "GbkT47crpMUh",
        "outputId": "418fcdc7-10d6-4f3c-9b8b-6ffce8c2529c"
      },
      "execution_count": null,
      "outputs": [
        {
          "output_type": "execute_result",
          "data": {
            "text/plain": [
              "<html lang=\"ja\" xml:lang=\"ja\" xmlns=\"http://www.w3.org/1999/xhtml\"><head>\n",
              "<title>CLUB TULLY'S | TULLY'S COFFEE</title>\n",
              "<!-- tp_addtion_130327_start -->\n",
              "<meta content=\"text/html; charset=utf-8\" http-equiv=\"content-type\"/>\n",
              "<meta content=\"no-cache\" http-equiv=\"pragma\"/>\n",
              "<meta content=\"no-store\" http-equiv=\"cache-control\"/>\n",
              "<meta content=\"no-cache\" http-equiv=\"cache-control\"/>\n",
              "<!-- /tp_addtion_130327_end -->\n",
              "<meta content=\"text/css\" http-equiv=\"Content-Style-Type\"/>\n",
              "<meta content=\"text/javascript\" http-equiv=\"Content-Script-Type\"/>\n",
              "<link href=\"/css/reset.css\" rel=\"stylesheet\" type=\"text/css\"/>\n",
              "<link href=\"/css/contents.css?m=20200608\" rel=\"stylesheet\" type=\"text/css\"/>\n",
              "<script src=\"/js/footerFixed.js\" type=\"text/javascript\"></script>\n",
              "<!-- tp_addtion_130327_start -->\n",
              "<script src=\"/js/common.js\" type=\"text/javascript\"></script>\n",
              "<!-- /tp_addtion_130327_end -->\n",
              "</head>\n",
              "<body id=\"m_my_top\">\n",
              "<noscript>\n",
              "<p class=\"msg msgCenter\"><span style=\"background:#ffffff\">当サイトをご利用頂く場合は、ブラウザの設定で「JavaScriptを有効」に設定する必要がございます。</span></p>\n",
              "</noscript>\n",
              "<div id=\"Header\">\n",
              "<div class=\"inner\">\n",
              "<p id=\"TullysLogo\"><a href=\"/\">CLUB TULLY'S</a></p>\n",
              "<ul>\n",
              "<li class=\"headerLinkInquiry\"><a href=\"https://www.tullys.co.jp/contact_us/email/input\">お問い合わせ</a></li>\n",
              "<!--141117 とび先変更-->\n",
              "<li class=\"headerLinkHome\"><a href=\"https://www.tullys.co.jp/\" target=\"_blank\">ホームページTOP</a></li>\n",
              "</ul>\n",
              "</div>\n",
              "</div>\n",
              "<div id=\"content\">\n",
              "<div class=\"inner\">\n",
              "<div class=\"mytop_wrap clearfix\">\n",
              "<div id=\"contentNav\">\n",
              "<p class=\"msg\">ようこそ信輔さん</p>\n",
              "<div class=\"nav\">\n",
              "<ul class=\"buttons3v\">\n",
              "<li><a href=\"https://club-tullys.jp/tcard\"><img alt=\"タリーズカード一覧へ\" src=\"/images/contents-btn-tullyscard2.png\"/></a></li>\n",
              "<li><a href=\"https://club-tullys.jp/coupon\"><img alt=\"チケット一覧へ\" src=\"/images/contents-btn-coupon2.png\"/></a></li>\n",
              "<li><a href=\"https://club-tullys.jp/logout\"><img alt=\"ログアウト\" src=\"/images/contents-btn-logout2.png\"/></a></li>\n",
              "<li><a href=\"https://club-tullys.jp/users-edit\"><img alt=\"会員情報変更\" src=\"/images/contents-btn-revise2.png\"/></a></li>\n",
              "<li style=\"margin-top:15px\"><a href=\"https://club-tullys.jp/static/pc/m_agree.html\" target=\"_blank\"><img alt=\"オートチャージについて\" src=\"/images/contents-btn-autocharge01.png\"/></a></li>\n",
              "</ul>\n",
              "</div>\n",
              "</div>\n",
              "<!-- 130628 idをcontentInfo02に変更 -->\n",
              "<div id=\"contentInfo02\">\n",
              "<p class=\"m_my_top_com\">タリーズカードをご登録いただくと、カード間の残高移行ができるようになります。<br/>「タリーズカード一覧へ」にアクセスするだけで、有効期限が延長されます。</p>\n",
              "<h2><img alt=\"タリーズカード一覧へ\" src=\"/images/content-title-mtop01.png\"/></h2>\n",
              "<h3>&lt;&lt; タリーズカード新規登録 &gt;&gt;</h3>\n",
              "<p class=\"m_my_top_com\">お持ちのタリーズカードを最大30枚までご登録いただけます。<br/>カード毎に残高が表示されるので、残高管理がとても便利です。</p>\n",
              "<h3>&lt;&lt; 残高移行 &gt;&gt;</h3>\n",
              "<p class=\"m_my_top_com\">登録したカード間の残高を1枚に統合することができます。<br/><span>（注）一度に移行できるのは、2枚ずつです。<br/>（注）カードの登録、残高移行には、カード裏面に記載されたPIN番号が必要です。</span></p>\n",
              "<h2><img alt=\"チケット一覧へ\" src=\"/images/content-title-mtop02.png\"/></h2>\n",
              "<p class=\"m_my_top_com\">年間を通して、CLUB TULLY’S 会員限定のキャンペーンを実施しています。<br/>抽選で電子ドリンクチケットやインビテーションチケット等が当たる企画にご応募いただいた場合、当選チケットがこちらに表示されます。</p>\n",
              "</div>\n",
              "</div>\n",
              "<!--131030修正 コメントアウトここから\n",
              "<div class=\"prsBox\">\n",
              "<p class=\"bxItem\"><img src=\"/images/content-mytop-item01.png\" alt=\"BEANS THANKS MONTH　スクラッチキャンペーン　Ｗチャンス！ドリンクカスタマイズチケット\" width=\"790\" height=\"61\" /></p>\n",
              "<div class=\"bxBtn\"><a href=\"m_serial_cam.html\"><img src=\"/images/content-mytop-btn01.gif\" alt=\"シリアルNo.入力はコチラ\" width=\"296\" height=\"53\" /></a></div>\n",
              "</div>\n",
              "131030修正 コメントアウトここまで-->\n",
              "<div id=\"footer\" style=\"top: 0px;\">\n",
              "<ul class=\"clearfix\">\n",
              "<!-- 20130319  対象商品削除-->\n",
              "<!--<li><a href=\"c_info_goods.html\" target=\"_blank\">対象商品</a></li>-->\n",
              "<li><a href=\"https://club-tullys.jp/static/pc/c_info_device.html\" target=\"_blank\">推奨環境</a></li>\n",
              "<li><a href=\"https://club-tullys.jp/static/pc/c_info_autocharge_rules.html\" target=\"_blank\">オートチャージについてのご利用規約</a></li>\n",
              "<li><a href=\"https://club-tullys.jp/static/pc/c_info_faq.html\" target=\"_blank\">よくあるお問い合わせ</a></li>\n",
              "<li><a href=\"https://club-tullys.jp/static/pc/c_info_privacy.html\" target=\"_blank\">プライバシーポリシー</a></li>\n",
              "<li class=\"lastMenu\"><a href=\"https://club-tullys.jp/static/pc/c_info_rules.html\" target=\"_blank\">ご利用規約</a></li>\n",
              "</ul> <p id=\"Copyright\">Copyright © Tully's Coffee Japan Co.,Ltd. All rights reserved.</p>\n",
              "</div>\n",
              "</div>\n",
              "</div>\n",
              "<div style=\"visibility: hidden; position: absolute; top: 0px;\">S</div></body></html>"
            ]
          },
          "metadata": {},
          "execution_count": 33
        }
      ]
    },
    {
      "cell_type": "code",
      "source": [
        "html = driver.page_source\n",
        "soup = BeautifulSoup(html,\"lxml\")\n",
        "content = soup.select('#contentInfo02')\n",
        "print(content)"
      ],
      "metadata": {
        "colab": {
          "base_uri": "https://localhost:8080/"
        },
        "id": "M25Qo3jS1sbE",
        "outputId": "5e4c5b12-6df1-4d05-fc64-075094b3bbd1"
      },
      "execution_count": null,
      "outputs": [
        {
          "output_type": "stream",
          "name": "stdout",
          "text": [
            "[<div id=\"contentInfo02\">\n",
            "<p class=\"m_my_top_com\">タリーズカードをご登録いただくと、カード間の残高移行ができるようになります。<br/>「タリーズカード一覧へ」にアクセスするだけで、有効期限が延長されます。</p>\n",
            "<h2><img alt=\"タリーズカード一覧へ\" src=\"/images/content-title-mtop01.png\"/></h2>\n",
            "<h3>&lt;&lt; タリーズカード新規登録 &gt;&gt;</h3>\n",
            "<p class=\"m_my_top_com\">お持ちのタリーズカードを最大30枚までご登録いただけます。<br/>カード毎に残高が表示されるので、残高管理がとても便利です。</p>\n",
            "<h3>&lt;&lt; 残高移行 &gt;&gt;</h3>\n",
            "<p class=\"m_my_top_com\">登録したカード間の残高を1枚に統合することができます。<br/><span>（注）一度に移行できるのは、2枚ずつです。<br/>（注）カードの登録、残高移行には、カード裏面に記載されたPIN番号が必要です。</span></p>\n",
            "<h2><img alt=\"チケット一覧へ\" src=\"/images/content-title-mtop02.png\"/></h2>\n",
            "<p class=\"m_my_top_com\">年間を通して、CLUB TULLY’S 会員限定のキャンペーンを実施しています。<br/>抽選で電子ドリンクチケットやインビテーションチケット等が当たる企画にご応募いただいた場合、当選チケットがこちらに表示されます。</p>\n",
            "</div>]\n"
          ]
        }
      ]
    }
  ]
}